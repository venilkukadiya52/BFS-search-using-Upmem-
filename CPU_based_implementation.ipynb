{
  "nbformat": 4,
  "nbformat_minor": 0,
  "metadata": {
    "colab": {
      "provenance": []
    },
    "kernelspec": {
      "name": "python3",
      "display_name": "Python 3"
    },
    "language_info": {
      "name": "python"
    }
  },
  "cells": [
    {
      "cell_type": "code",
      "execution_count": 2,
      "metadata": {
        "colab": {
          "base_uri": "https://localhost:8080/"
        },
        "id": "gYnEzOLDJ9mB",
        "outputId": "0e86b64a-8bd8-4b09-a643-3b7c96e493ec"
      },
      "outputs": [
        {
          "output_type": "stream",
          "name": "stdout",
          "text": [
            "BFS starting from node 1:\n",
            "1 2 3 4 5 6 7 "
          ]
        }
      ],
      "source": [
        "from collections import deque, defaultdict\n",
        "\n",
        "class Graph:\n",
        "    def __init__(self):\n",
        "        self.graph = defaultdict(list)\n",
        "\n",
        "    def add_edge(self, u, v):\n",
        "        self.graph[u].append(v)\n",
        "        self.graph[v].append(u)  # Assuming undirected graph\n",
        "\n",
        "    def bfs(self, start_node):\n",
        "        visited = set()\n",
        "        queue = deque([start_node])\n",
        "        visited.add(start_node)\n",
        "\n",
        "        while queue:\n",
        "            node = queue.popleft()\n",
        "            print(node, end=' ')\n",
        "\n",
        "            for neighbor in self.graph[node]:\n",
        "                if neighbor not in visited:\n",
        "                    visited.add(neighbor)\n",
        "                    queue.append(neighbor)\n",
        "\n",
        "# usage\n",
        "if __name__ == \"__main__\":\n",
        "    g = Graph()\n",
        "    g.add_edge(1, 2)\n",
        "    g.add_edge(1, 3)\n",
        "    g.add_edge(2, 4)\n",
        "    g.add_edge(2, 5)\n",
        "    g.add_edge(3, 6)\n",
        "    g.add_edge(3, 7)\n",
        "\n",
        "    print(\"BFS starting from node 1:\")\n",
        "    g.bfs(1)\n"
      ]
    }
  ]
}